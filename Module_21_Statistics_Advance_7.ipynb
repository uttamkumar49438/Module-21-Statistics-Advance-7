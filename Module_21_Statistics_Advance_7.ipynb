{
  "nbformat": 4,
  "nbformat_minor": 0,
  "metadata": {
    "colab": {
      "provenance": []
    },
    "kernelspec": {
      "name": "python3",
      "display_name": "Python 3"
    },
    "language_info": {
      "name": "python"
    }
  },
  "cells": [
    {
      "cell_type": "markdown",
      "source": [
        "Q1. Write a Python function that takes in two arrays of data and calculates the F-value for a variance ratio\n",
        "test. The function should return the F-value and the corresponding p-value for the test."
      ],
      "metadata": {
        "id": "OgCHGe8h6x0X"
      }
    },
    {
      "cell_type": "code",
      "source": [
        "import numpy as np\n",
        "import scipy.stats as stats\n",
        "\n",
        "def variance_ratio_test(data1, data2):\n",
        "    # Calculate variances\n",
        "    var1 = np.var(data1, ddof=1)\n",
        "    var2 = np.var(data2, ddof=1)\n",
        "\n",
        "    # Calculate F-value\n",
        "    F_value = var1 / var2 if var1 >= var2 else var2 / var1\n",
        "\n",
        "    # Calculate degrees of freedom\n",
        "    df1 = len(data1) - 1\n",
        "    df2 = len(data2) - 1\n",
        "\n",
        "    # Calculate p-value\n",
        "    p_value = stats.f.sf(F_value, df1, df2) * 2  # Two-tailed test\n",
        "\n",
        "    return F_value, p_value\n",
        "\n",
        "# Example usage:\n",
        "data1 = [10, 12, 15, 18, 20]\n",
        "data2 = [13, 14, 16, 19, 22]\n",
        "F_value, p_value = variance_ratio_test(data1, data2)\n",
        "print(\"F-value:\", F_value)\n",
        "print(\"p-value:\", p_value)\n"
      ],
      "metadata": {
        "id": "zc1KsV_k60fV"
      },
      "execution_count": null,
      "outputs": []
    },
    {
      "cell_type": "markdown",
      "source": [
        "Q2. Given a significance level of 0.05 and the degrees of freedom for the numerator and denominator of an\n",
        "F-distribution, write a Python function that returns the critical F-value for a two-tailed test."
      ],
      "metadata": {
        "id": "APs5vIq-67mt"
      }
    },
    {
      "cell_type": "code",
      "source": [
        "def critical_f_value(alpha, df_num, df_denom):\n",
        "    return stats.f.ppf(1 - alpha/2, df_num, df_denom)\n",
        "\n",
        "# Example usage:\n",
        "alpha = 0.05\n",
        "df_num = 3\n",
        "df_denom = 20\n",
        "critical_F = critical_f_value(alpha, df_num, df_denom)\n",
        "print(\"Critical F-value:\", critical_F)"
      ],
      "metadata": {
        "id": "eHepxF327AtD"
      },
      "execution_count": null,
      "outputs": []
    },
    {
      "cell_type": "markdown",
      "source": [
        "Q3. Write a Python program that generates random samples from two normal distributions with known\n",
        "\n",
        "variances and uses an F-test to determine if the variances are equal. The program should output the F-\n",
        "value, degrees of freedom, and p-value for the test."
      ],
      "metadata": {
        "id": "MVKDOdZW7EKO"
      }
    },
    {
      "cell_type": "code",
      "source": [
        "def variance_equality_test(data1, data2):\n",
        "    # Conduct F-test\n",
        "    F_value, p_value = stats.f_oneway(data1, data2)\n",
        "    return F_value, p_value\n",
        "\n",
        "# Generate random samples\n",
        "np.random.seed(42)\n",
        "data1 = np.random.normal(loc=0, scale=1, size=50)\n",
        "data2 = np.random.normal(loc=0, scale=1.5, size=50)\n",
        "\n",
        "# Perform F-test\n",
        "F_value, p_value = variance_equality_test(data1, data2)\n",
        "print(\"F-value:\", F_value)\n",
        "print(\"p-value:\", p_value)"
      ],
      "metadata": {
        "id": "KJ0MxYeN7HLy"
      },
      "execution_count": null,
      "outputs": []
    },
    {
      "cell_type": "markdown",
      "source": [
        "Q4.The variances of two populations are known to be 10 and 15. A sample of 12 observations is taken from\n",
        "each population. Conduct an F-test at the 5% significance level to determine if the variances are\n",
        "significantly different."
      ],
      "metadata": {
        "id": "aqXSrzoE7MPr"
      }
    },
    {
      "cell_type": "code",
      "source": [
        "# Given data\n",
        "variance1 = 10\n",
        "variance2 = 15\n",
        "sample_size = 12\n",
        "\n",
        "# Calculate F-value\n",
        "F_value = variance2 / variance1\n",
        "\n",
        "# Calculate degrees of freedom\n",
        "df1 = sample_size - 1\n",
        "df2 = sample_size - 1\n",
        "\n",
        "# Calculate p-value\n",
        "p_value = stats.f.sf(F_value, df1, df2)\n",
        "\n",
        "# Significance level\n",
        "alpha = 0.05\n",
        "\n",
        "# Check for significance\n",
        "if p_value < alpha:\n",
        "    print(\"Reject the null hypothesis: The variances are significantly different.\")\n",
        "else:\n",
        "    print(\"Fail to reject the null hypothesis: There is no significant difference in variances.\")"
      ],
      "metadata": {
        "id": "HIXoMTI87PZo"
      },
      "execution_count": null,
      "outputs": []
    },
    {
      "cell_type": "markdown",
      "source": [
        "Q5. A manufacturer claims that the variance of the diameter of a certain product is 0.005. A sample of 25\n",
        "products is taken, and the sample variance is found to be 0.006. Conduct an F-test at the 1% significance\n",
        "level to determine if the claim is justified."
      ],
      "metadata": {
        "id": "O-fOEiqS7aZa"
      }
    },
    {
      "cell_type": "code",
      "source": [
        "# Given data\n",
        "sample_variance = 0.006\n",
        "sample_size = 25\n",
        "claim_variance = 0.005\n",
        "\n",
        "# Calculate F-value\n",
        "F_value = sample_variance / claim_variance\n",
        "\n",
        "# Calculate degrees of freedom\n",
        "df1 = sample_size - 1\n",
        "df2 = sample_size - 1\n",
        "\n",
        "# Calculate p-value\n",
        "p_value = stats.f.sf(F_value, df1, df2)\n",
        "\n",
        "# Significance level\n",
        "alpha = 0.01\n",
        "\n",
        "# Check for significance\n",
        "if p_value < alpha:\n",
        "    print(\"Reject the null hypothesis: The claim that the variance is 0.005 is not justified.\")\n",
        "else:\n",
        "    print(\"Fail to reject the null hypothesis: The claim that the variance is 0.005 is justified.\")"
      ],
      "metadata": {
        "id": "b-28yuJU7dYs"
      },
      "execution_count": null,
      "outputs": []
    },
    {
      "cell_type": "markdown",
      "source": [
        "Q6. Write a Python function that takes in the degrees of freedom for the numerator and denominator of an\n",
        "F-distribution and calculates the mean and variance of the distribution. The function should return the\n",
        "mean and variance as a tuple."
      ],
      "metadata": {
        "id": "fgZTYk2z7iDy"
      }
    },
    {
      "cell_type": "code",
      "source": [
        "def f_distribution_mean_and_variance(df_num, df_denom):\n",
        "    if df_denom <= 2:\n",
        "        raise ValueError(\"Degrees of freedom for the denominator must be greater than 2.\")\n",
        "\n",
        "    mean = df_denom / (df_denom - 2)\n",
        "    variance = (2 * (df_denom ** 2) * (df_num + df_denom - 2)) / (df_num * (df_denom - 2) ** 2 * (df_denom - 4))\n",
        "\n",
        "    return mean, variance\n",
        "\n",
        "# Example usage:\n",
        "df_num = 3\n",
        "df_denom = 20\n",
        "mean, variance = f_distribution_mean_and_variance(df_num, df_denom)\n",
        "print(\"Mean of F-distribution:\", mean)\n",
        "print(\"Variance of F-distribution:\", variance)"
      ],
      "metadata": {
        "id": "qsXQl7Hd7nua"
      },
      "execution_count": null,
      "outputs": []
    },
    {
      "cell_type": "markdown",
      "source": [
        "Q7. A random sample of 10 measurements is taken from a normal population with unknown variance. The\n",
        "sample variance is found to be 25. Another random sample of 15 measurements is taken from another\n",
        "normal population with unknown variance, and the sample variance is found to be 20. Conduct an F-test\n",
        "at the 10% significance level to determine if the variances are significantly different."
      ],
      "metadata": {
        "id": "77-e5Spr7rrW"
      }
    },
    {
      "cell_type": "code",
      "source": [
        "# Given data\n",
        "sample_variance1 = 25\n",
        "sample_size1 = 10\n",
        "sample_variance2 = 20\n",
        "sample_size2 = 15\n",
        "\n",
        "# Calculate F-value\n",
        "F_value = sample_variance1 / sample_variance2\n",
        "\n",
        "# Calculate degrees of freedom\n",
        "df1 = sample_size1 - 1\n",
        "df2 = sample_size2 - 1\n",
        "\n",
        "# Calculate p-value\n",
        "p_value = stats.f.sf(F_value, df1, df2)\n",
        "\n",
        "# Significance level\n",
        "alpha = 0.10\n",
        "\n",
        "# Check for significance\n",
        "if p_value < alpha:\n",
        "    print(\"Reject the null hypothesis: The variances are significantly different.\")\n",
        "else:\n",
        "    print(\"Fail to reject the null hypothesis: There is no significant difference in variances.\")"
      ],
      "metadata": {
        "id": "91X_Wfdq72o8"
      },
      "execution_count": null,
      "outputs": []
    },
    {
      "cell_type": "markdown",
      "source": [
        "Q8. The following data represent the waiting times in minutes at two different restaurants on a Saturday\n",
        "night: Restaurant A: 24, 25, 28, 23, 22, 20, 27; Restaurant B: 31, 33, 35, 30, 32, 36. Conduct an F-test at the 5%\n",
        "significance level to determine if the variances are significantly different."
      ],
      "metadata": {
        "id": "H5_nf2pl74id"
      }
    },
    {
      "cell_type": "code",
      "source": [
        "# Given data\n",
        "waiting_times_A = [24, 25, 28, 23, 22, 20, 27]\n",
        "waiting_times_B = [31, 33, 35, 30, 32, 36]\n",
        "\n",
        "# Calculate sample variances\n",
        "sample_variance_A = np.var(waiting_times_A, ddof=1)\n",
        "sample_variance_B = np.var(waiting_times_B, ddof=1)\n",
        "\n",
        "# Calculate F-value\n",
        "F_value = sample_variance_A / sample_variance_B\n",
        "\n",
        "# Calculate degrees of freedom\n",
        "df1 = len(waiting_times_A) - 1\n",
        "df2 = len(waiting_times_B) - 1\n",
        "\n",
        "# Calculate p-value\n",
        "p_value = stats.f.sf(F_value, df1, df2)\n",
        "\n",
        "# Significance level\n",
        "alpha = 0.05\n",
        "\n",
        "# Check for significance\n",
        "if p_value < alpha:\n",
        "    print(\"Reject the null hypothesis: The variances are significantly different.\")\n",
        "else:\n",
        "    print(\"Fail to reject the null hypothesis: There is no significant difference in variances.\")"
      ],
      "metadata": {
        "id": "sJ_gTj9s8DAo"
      },
      "execution_count": null,
      "outputs": []
    },
    {
      "cell_type": "markdown",
      "source": [
        "Q9. The following data represent the test scores of two groups of students: Group A: 80, 85, 90, 92, 87, 83;\n",
        "Group B: 75, 78, 82, 79, 81, 84. Conduct an F-test at the 1% significance level to determine if the variances\n",
        "are significantly different."
      ],
      "metadata": {
        "id": "qd-gREkv8EQ8"
      }
    },
    {
      "cell_type": "code",
      "source": [
        "# Given data\n",
        "test_scores_A = [80, 85, 90, 92, 87, 83]\n",
        "test_scores_B = [75, 78, 82, 79, 81, 84]\n",
        "\n",
        "# Calculate sample variances\n",
        "sample_variance_A = np.var(test_scores_A, ddof=1)\n",
        "sample_variance_B = np.var(test_scores_B, ddof=1)\n",
        "\n",
        "# Calculate F-value\n",
        "F_value = sample_variance_A / sample_variance_B\n",
        "\n",
        "# Calculate degrees of freedom\n",
        "df1 = len(test_scores_A) - 1\n",
        "df2 = len(test_scores_B) - 1\n",
        "\n",
        "# Calculate p-value\n",
        "p_value = stats.f.sf(F_value, df1, df2)\n",
        "\n",
        "# Significance level\n",
        "alpha = 0.01\n",
        "\n",
        "# Check for significance\n",
        "if p_value < alpha:\n",
        "    print(\"Reject the null hypothesis: The variances are significantly different.\")\n",
        "else:\n",
        "    print(\"Fail to reject the null hypothesis: There is no significant difference in variances.\")"
      ],
      "metadata": {
        "id": "QRNTfyqZ8Hel"
      },
      "execution_count": null,
      "outputs": []
    }
  ]
}